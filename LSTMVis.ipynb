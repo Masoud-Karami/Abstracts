{
 "cells": [
  {
   "attachments": {},
   "cell_type": "markdown",
   "id": "fb12f0b9",
   "metadata": {},
   "source": [
    "<h1> <img src=\"https://github.com/HendrikStrobelt/LSTMVis/raw/master/docs/img/logo_sm.png\" alt=\" \"> <a href=https://arxiv.org/abs/1606.07461><b>Visual Analysis for State Changes in RNNs</b> </a></h1>\n",
    "\n",
    "<a href=https://github.com/HendrikStrobelt/LSTMVis>code</a>"
   ]
  },
  {
   "cell_type": "code",
   "execution_count": null,
   "id": "b39deac2",
   "metadata": {},
   "outputs": [],
   "source": []
  }
 ],
 "metadata": {
  "kernelspec": {
   "display_name": "Python 3 (ipykernel)",
   "language": "python",
   "name": "python3"
  },
  "language_info": {
   "codemirror_mode": {
    "name": "ipython",
    "version": 3
   },
   "file_extension": ".py",
   "mimetype": "text/x-python",
   "name": "python",
   "nbconvert_exporter": "python",
   "pygments_lexer": "ipython3",
   "version": "3.9.6"
  }
 },
 "nbformat": 4,
 "nbformat_minor": 5
}
