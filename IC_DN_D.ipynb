{
  "nbformat": 4,
  "nbformat_minor": 0,
  "metadata": {
    "colab": {
      "name": "IC/DN-D.ipynb",
      "provenance": [],
      "authorship_tag": "ABX9TyOLAiaFgNPArDoVEk9OnCg2",
      "include_colab_link": true
    },
    "kernelspec": {
      "name": "python3",
      "display_name": "Python 3"
    },
    "language_info": {
      "name": "python"
    }
  },
  "cells": [
    {
      "cell_type": "markdown",
      "metadata": {
        "id": "view-in-github",
        "colab_type": "text"
      },
      "source": [
        "<a href=\"https://colab.research.google.com/github/Masoud-Karami/Abstracts/blob/main/IC_DN_D.ipynb\" target=\"_parent\"><img src=\"https://colab.research.google.com/assets/colab-badge.svg\" alt=\"Open In Colab\"/></a>"
      ]
    },
    {
      "cell_type": "markdown",
      "metadata": {
        "id": "FMg-0RZW5zf0"
      },
      "source": [
        "#**[Demystifying Neural Language Models’ Insensitivity to Word-Order](https://arxiv.org/abs/2107.13955)**\n",
        "\n",
        "[code](https://github.com/chandar-lab/)"
      ]
    },
    {
      "cell_type": "markdown",
      "metadata": {
        "id": "BRreRIhWSgxr"
      },
      "source": [
        ">## (In)Sensitivity of natural language models to word-order\n",
        "><ol>\n",
        "        <li><i><b>How to investigate:</i></b> \n",
        "                <ol type='a'>\n",
        "                    <li><code><mark>quantifying</code></mark> perturbations and analyzing their effect on neural models’ performance on language understanding tasks in GLUE benchmark.</li>\n",
        "                    <li>score the <code><mark>local</code></mark>  and <code><mark>global</code></mark> ordering of tokens\n",
        "in the perturbed texts with the two following metrics:\n",
        "                        <ul>\n",
        "                        <li><b>metric #1:</b> Direct Neighbour Displacement (DND)</li>\n",
        "                        <li><b>metric #2:</b> Index Displacement Count (IDC)</li>\n",
        "                        </ul>\n",
        "                </ol>\n",
        "        <li><i><b>Achievements:</i></b> \n",
        "                <ol type='i'> \n",
        "                    <li>perturbation functions found in prior literature affect only the global ordering while the local ordering remains relatively unperturbed.</li>\n",
        "                    <li>pretrained and non-pretrained Transformers,\n",
        "LSTMs, and Convolutional architectures require local ordering more so than the global ordering of tokens.</li>\n",
        "                </pl>"
      ]
    }
  ]
}