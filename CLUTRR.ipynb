{
  "nbformat": 4,
  "nbformat_minor": 0,
  "metadata": {
    "colab": {
      "name": "CLUTRR.ipynb",
      "provenance": [],
      "collapsed_sections": [],
      "authorship_tag": "ABX9TyMUGN4x9cqJ+gbY3dqugG/I",
      "include_colab_link": true
    },
    "kernelspec": {
      "name": "python3",
      "display_name": "Python 3"
    },
    "language_info": {
      "name": "python"
    }
  },
  "cells": [
    {
      "cell_type": "markdown",
      "metadata": {
        "id": "view-in-github",
        "colab_type": "text"
      },
      "source": [
        "<a href=\"https://colab.research.google.com/github/Masoud-Karami/Abstracts/blob/main/CLUTRR.ipynb\" target=\"_parent\"><img src=\"https://colab.research.google.com/assets/colab-badge.svg\" alt=\"Open In Colab\"/></a>"
      ]
    },
    {
      "cell_type": "markdown",
      "metadata": {
        "id": "FMg-0RZW5zf0"
      },
      "source": [
        "#<a href=https://arxiv.org/abs/1908.06177><b>CLUTRR:</b> A Diagnostic Benchmark for Inductive Reasoning from Text</a>\n",
        "<a href=https://github.com/facebookresearch/clutrr/>code</a>\n",
        "\n",
        "[YouTube Talk](https://www.youtube.com/watch?v=Wa8tFsUv3fw&ab_channel=KoustuvSinha)"
      ]
    },
    {
      "cell_type": "markdown",
      "metadata": {
        "id": "BRreRIhWSgxr"
      },
      "source": [
        "## \n",
        "___\n",
        "<ol>\n",
        "<li><i><b>:</b></i>\n",
        "<ol type=\"a\">\n",
        "        <li><code>...</code></li>\n",
        "        </ol>\n",
        "</li>\n",
        "</ol>"
      ]
    }
  ]
}