{
 "cells": [
  {
   "cell_type": "markdown",
   "id": "8ef9b930",
   "metadata": {},
   "source": [
    "<h1> <img src=\"https://github.com/HendrikStrobelt/LSTMVis/raw/master/docs/img/logo_sm.png\" alt=\" \"> <a href=https://arxiv.org/abs/1606.07461><b>A Tool for Visual Analysis of Hidden State Dynamics in\n",
    "RNNs</b> </a></h1>\n",
    "\n",
    "<a href=https://github.com/HendrikStrobelt/LSTMVis>code</a>\n",
    "\n",
    "<a href=http://lstm.seas.harvard.edu> live system </a>"
   ]
  },
  {
   "cell_type": "markdown",
   "id": "dd841a4b",
   "metadata": {},
   "source": [
    "<h2> </h2>\n",
    "<h3>The tool allows users to:</h3>\n",
    "<ol>\n",
    "    <li>select a hypothesis input range to focus on local state changes</li>\n",
    "    <li>match these states changes to similar patterns in a large data set</li>\n",
    "    <li>align these results with structural annotations from their domain</li>\n",
    "</ol>\n",
    "<h3>general goals:</h3>\n",
    "<ul>\n",
    "    <li>to find out <i>how</i> a particular model is representing \n",
    "        long-distance relationships within a sequence</li>\n",
    "    <li>enable users to explore complex network interactions in an RNN and \n",
    "        directly connect these abstract representations to human understandable inputs</li>\n",
    "    <li></li>\n",
    "</ul>\n",
    "<h3>About users:</h3>\n",
    "<ul>\n",
    "    <li>LSTMVis is focused on <b>architects</b> and <b>trainers</b></li>\n",
    "    <li></li>\n",
    "    <li></li>\n",
    "</ul>\n",
    "\n",
    "\n",
    "<h3>The main focus of this work is the following vectors, and particularly how they change over time:</h3>\n",
    "consider $\\mathbf{h_{t}}\\gets \\mathbf{RNN}(\\mathbf{x_{t}}, \\mathbf{h_{t-1}})$,\n",
    "This function takes input vector $\\mathbf{x_{t}}$ and a hidden state vector \n",
    "$\\mathbf{\\mathbf{h}_{t-1}}$ and gives a new hidden state vector $\\mathbf{h}_t$ in $\\mathbb{R}^D$. \n",
    "<ul>\n",
    "    <li>input vector $\\mathbf{x_{t}}$</li>\n",
    "    <li>hidden state vector $\\mathbf{\\mathbf{h}_{t-1}}$</li>\n",
    "    <li>new hidden state vector $\\mathbf{h}_t$ in $\\mathbb{R}^D$</li>\n",
    "    <li>learn these hidden states to represent the features of the input words</li>\n",
    "</ul>\n",
    "\n",
    "<h3>application:</h3>\n",
    "<ul>\n",
    "    <li>LSTMVis is focused on <b>architects</b> and <b>trainers</b></li>\n",
    "    <li></li>\n",
    "    <li></li>\n",
    "</ul>\n"
   ]
  },
  {
   "cell_type": "code",
   "execution_count": null,
   "id": "952cd8b4",
   "metadata": {},
   "outputs": [],
   "source": []
  },
  {
   "cell_type": "code",
   "execution_count": null,
   "id": "283b429f",
   "metadata": {},
   "outputs": [],
   "source": []
  }
 ],
 "metadata": {
  "kernelspec": {
   "display_name": "Python 3 (ipykernel)",
   "language": "python",
   "name": "python3"
  },
  "language_info": {
   "codemirror_mode": {
    "name": "ipython",
    "version": 3
   },
   "file_extension": ".py",
   "mimetype": "text/x-python",
   "name": "python",
   "nbconvert_exporter": "python",
   "pygments_lexer": "ipython3",
   "version": "3.9.7"
  }
 },
 "nbformat": 4,
 "nbformat_minor": 5
}
