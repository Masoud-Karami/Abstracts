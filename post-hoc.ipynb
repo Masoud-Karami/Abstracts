{
 "cells": [
  {
   "cell_type": "markdown",
   "id": "befc84c6",
   "metadata": {},
   "source": [
    "<h1> <a href=https://arxiv.org/abs/2108.04840><b>Post-hoc Interpretability for Neural NLP:</b> A Survey</a></h1>"
   ]
  },
  {
   "cell_type": "markdown",
   "id": "0297f16a",
   "metadata": {},
   "source": [
    "<h2>This survey:</h2>\n",
    "<ul>\n",
    "    <li>provides a categorization of how recent interpretability methods communicate explanations and discusses the methods in depth</li>\n",
    "    <li>focuses on post-hoc methods, which provide explanations after a model is learned and generally model-agnostic</li>\n",
    "    <li>discusses how these post-hoc methods are evaluated since the concern is whether these interpretabilities accurately reflect the model.</li>\n",
    "    <li></li>\n",
    "    <li></li>\n",
    "</ul>"
   ]
  },
  {
   "cell_type": "code",
   "execution_count": null,
   "id": "6e064eed",
   "metadata": {},
   "outputs": [],
   "source": []
  }
 ],
 "metadata": {
  "kernelspec": {
   "display_name": "Python 3 (ipykernel)",
   "language": "python",
   "name": "python3"
  },
  "language_info": {
   "codemirror_mode": {
    "name": "ipython",
    "version": 3
   },
   "file_extension": ".py",
   "mimetype": "text/x-python",
   "name": "python",
   "nbconvert_exporter": "python",
   "pygments_lexer": "ipython3",
   "version": "3.9.6"
  }
 },
 "nbformat": 4,
 "nbformat_minor": 5
}
