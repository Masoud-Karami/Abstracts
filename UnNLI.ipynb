{
  "nbformat": 4,
  "nbformat_minor": 0,
  "metadata": {
    "colab": {
      "name": "UnNLI.ipynb",
      "provenance": [],
      "authorship_tag": "ABX9TyNB/Cy4JWPFV8Yjxaugixe+",
      "include_colab_link": true
    },
    "kernelspec": {
      "name": "python3",
      "display_name": "Python 3"
    },
    "language_info": {
      "name": "python"
    }
  },
  "cells": [
    {
      "cell_type": "markdown",
      "metadata": {
        "id": "view-in-github",
        "colab_type": "text"
      },
      "source": [
        "<a href=\"https://colab.research.google.com/github/Masoud-Karami/Abstracts/blob/main/UnNLI.ipynb\" target=\"_parent\"><img src=\"https://colab.research.google.com/assets/colab-badge.svg\" alt=\"Open In Colab\"/></a>"
      ]
    },
    {
      "cell_type": "markdown",
      "metadata": {
        "id": "2hFs4MkCYGaU"
      },
      "source": [
        "#**[UnNatural Language Inference](https://arxiv.org/abs/2101.00010)**\n",
        " [code](https://github.com/facebookresearch/unlu)\n",
        "\n",
        "[requirement](https://github.com/facebookresearch/unlu)"
      ]
    },
    {
      "cell_type": "markdown",
      "metadata": {
        "id": "x3d1MODNY5Yj"
      },
      "source": [
        ">## Ntural Lnguage Understanding\n",
        ">><ol>\n",
        "        <li><i><b>Generalizability of the NLI framework:</i></b> nearly all questions about meaningfulness in language can be reduced to questions of entailment and contradiction in context</li>\n",
        "        <li><i><b>Permutation-free models:</i></b> state-of-the-art Natural Language Inference (NLI) models are largely invariant to random word-order permutations</li>\n",
        "        <li><i><b>Syntax:</i></b> knowing the syntax of a sentence means being sensitive to the order of the words in that sentence, i.e <i>''language is not merely a bag of words''</i></li>\n",
        "        <li><i><b>sentence superiority effect:</i></b> it is easier for us to identify or recall words presented in canonical orders than in disordered, ungrammatical sentences.</li>\n",
        "        <li><i><b>words v.s word orders:</i></b> NLI models focus on words more than word order, but can partially reconstruct syntactic information from words alone.\n",
        "        <li><i><b>Textual entailment:</i></b> also called <b>Natural Language Inference (NLI)</b>, is one of the task used to measure how well models understand language consists of two sentences:\n",
        "                <ul>\n",
        "                    <li> premise</li>\n",
        "                    <li> hypothesis</li>\n",
        "                </li>\n",
        "\n",
        "         "
      ]
    },
    {
      "cell_type": "markdown",
      "metadata": {
        "id": "1iW7pyXfY6F3"
      },
      "source": [
        "##[Simple demo](https://colab.research.google.com/drive/1vv8Xmag1go3dib4vZXUZXAFB4ltDaMH7?usp=sharing#scrollTo=MQPQU6YTIkab)"
      ]
    },
    {
      "cell_type": "code",
      "metadata": {
        "id": "XEnxPPcBY_qN"
      },
      "source": [
        "!pip install omegaconf\n",
        "!pip install hydra-core --upgrade"
      ],
      "execution_count": null,
      "outputs": []
    },
    {
      "cell_type": "code",
      "metadata": {
        "id": "fqQCedjZZJUB"
      },
      "source": [
        "import torch\n",
        "model = torch.hub.load('pytorch/fairseq', 'roberta.large.mnli')\n",
        "model.eval()"
      ],
      "execution_count": null,
      "outputs": []
    }
  ]
}