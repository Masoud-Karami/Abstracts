{
  "nbformat": 4,
  "nbformat_minor": 0,
  "metadata": {
    "colab": {
      "name": "SANVIs.ipynb",
      "provenance": [],
      "authorship_tag": "ABX9TyNYTQpojHVjjQeJtNt1XHid",
      "include_colab_link": true
    },
    "kernelspec": {
      "name": "python3",
      "display_name": "Python 3"
    },
    "language_info": {
      "name": "python"
    }
  },
  "cells": [
    {
      "cell_type": "markdown",
      "metadata": {
        "id": "view-in-github",
        "colab_type": "text"
      },
      "source": [
        "<a href=\"https://colab.research.google.com/github/Masoud-Karami/Abstracts/blob/main/SANVIs.ipynb\" target=\"_parent\"><img src=\"https://colab.research.google.com/assets/colab-badge.svg\" alt=\"Open In Colab\"/></a>"
      ]
    },
    {
      "cell_type": "markdown",
      "metadata": {
        "id": "l5Fjq2GVaIpk"
      },
      "source": [
        "## **SANVis**: Visual Analytics for Understanding Self-Attention Networks\n",
        "\n",
        "> multi-head self-attention networks* : \n",
        ">>1. encode a set\n",
        "of input vectors, e.g., word vectors in a sentence, into another set\n",
        "of vectors\n",
        ">>2. simultaneously capturing diverse\n",
        "syntactic and semantic features within a set, each of which corre-\n",
        "sponds to a particular attention head\n",
        "\n"
      ]
    },
    {
      "cell_type": "code",
      "metadata": {
        "id": "zBy7gUmvSH-g"
      },
      "source": [
        ""
      ],
      "execution_count": null,
      "outputs": []
    }
  ]
}