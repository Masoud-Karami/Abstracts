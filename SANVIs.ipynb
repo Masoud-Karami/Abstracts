{
  "nbformat": 4,
  "nbformat_minor": 0,
  "metadata": {
    "colab": {
      "name": "SANVIs.ipynb",
      "provenance": [],
      "authorship_tag": "ABX9TyOvodlaLwW57VEXHYmPAvTt",
      "include_colab_link": true
    },
    "kernelspec": {
      "name": "python3",
      "display_name": "Python 3"
    },
    "language_info": {
      "name": "python"
    }
  },
  "cells": [
    {
      "cell_type": "markdown",
      "metadata": {
        "id": "view-in-github",
        "colab_type": "text"
      },
      "source": [
        "<a href=\"https://colab.research.google.com/github/Masoud-Karami/Abstracts/blob/main/SANVIs.ipynb\" target=\"_parent\"><img src=\"https://colab.research.google.com/assets/colab-badge.svg\" alt=\"Open In Colab\"/></a>"
      ]
    },
    {
      "cell_type": "markdown",
      "metadata": {
        "id": "l5Fjq2GVaIpk"
      },
      "source": [
        "## **[SANVis](https://arxiv.org/abs/1909.09595)**: Visual Analytics for Understanding Self-Attention Networks [code](http://short.sanvis.org/)\n",
        "\n",
        "> **multi-head self-attention networks** : \n",
        ">>1. A set of input vectors, e.g., word vectors $\\rightarrow$ into another set of vectors\n",
        ">>2. Simultaneously capturing syntactic and semantic features, each of which corresponds to a particular attention head\n",
        ">>3. Model complexity $\\implies$ difficult to understand\n",
        ">>4. two currently used pre-training methods\n",
        "    <ol type=\"i\">\n",
        "        <li> autoregressive language modeling</li>\n",
        "        <li> autoencoding </li> (e.g. BERT)\n",
        "\n",
        ">>5. The proble of BERT in not being pre-trained autoregressively is becomeing clear in the example in the [XLNet](https://arxiv.org/abs/1906.08237) paper. Considering $\\log p(\\text{New York} \\mid \\text{is a city})$\n",
        ">>> $$\\mathcal{J}_{\\text{BERT}} = \\log p(\\text{New} \\mid \\text{is a city}) + \\log p(\\text{York} \\mid \\text{is a city}),$$ inwhich each of the probabilities are indipendent from each other. It ma couse the following problem but a pefect match in BERT's mind: \n",
        "$**\\text{Los York is a city}**$.\n",
        "However with XLNet:\n",
        "$$\\mathcal{J}_{\\text{XLNet}} = \\log p(\\text{New} \\mid \\text{is a city}) + \\log p(\\text{York} \\mid {\\text{New}}, \\text{is a city}).$$\n",
        "\n",
        "\n"
      ]
    },
    {
      "cell_type": "code",
      "metadata": {
        "id": "zBy7gUmvSH-g"
      },
      "source": [
        ""
      ],
      "execution_count": null,
      "outputs": []
    }
  ]
}